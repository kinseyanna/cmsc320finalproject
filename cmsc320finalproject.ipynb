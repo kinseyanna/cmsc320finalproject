{
 "cells": [
  {
   "cell_type": "markdown",
   "metadata": {},
   "source": [
    "# CMSC320 Final Project\n",
    "## Kinsey Smith, Sarah Bullard, Yiwen Shen"
   ]
  },
  {
   "cell_type": "code",
   "execution_count": 1,
   "metadata": {},
   "outputs": [
    {
     "data": {
      "text/html": [
       "<table><tr><td><img src='blm_twitter_image.jpg'></td><td><img src='Twitter_bird_logo_2012.svg.png'></td><td><img src='trump_twitter_image.jpg'></td></tr></table>"
      ],
      "text/plain": [
       "<IPython.core.display.HTML object>"
      ]
     },
     "metadata": {},
     "output_type": "display_data"
    }
   ],
   "source": [
    "from IPython.display import HTML, display\n",
    "display(HTML(\"<table><tr><td><img src='blm_twitter_image.jpg'></td><td><img src='Twitter_bird_logo_2012.svg.png'></td><td><img src='trump_twitter_image.jpg'></td></tr></table>\"))"
   ]
  },
  {
   "cell_type": "markdown",
   "metadata": {},
   "source": [
    "<i> how to make these images less ugly? <i/>"
   ]
  },
  {
   "cell_type": "markdown",
   "metadata": {},
   "source": [
    "### Introduction\n",
    "Our project is surrounding the Twitter accounts of the Black Lives Matter Movement (@Blklivesmatter) and Donald Trump (@realDonaldTrump). We focused on the sentiment of the tweets of each account versus each individual tweet's replies. Our question was to find out what account would have more stark of a difference between tweets and their replies - in other words, whether positive tweets by BLM or Donald Trump would have more negative replies. <b> Our hypothesis was that Donald Trump's account would have more negative replies to his positive tweets. <--- Do you guys like this hypothesis? </b>\n",
    "\n",
    "Sentiment analysis is a way of classifying a text as positive, negative, or neutral using text analysis. <i>FIX THAT SENTENCE</i>. However, because of the complex and sarcastic components of the English language, sentiment analysis is not a sole way of categorizing something as positive or negative. Because of this, we needed other factors to tell the sentiment of a reply. In order to do this, we created a feature vector and used that to classify the sentiment of the reply and used SVM machine learning in order to have the machine classify it for us. <i>FIX THAT SENTENCE</i>\n",
    "\n",
    "The features in our feature vector are as follows. \n",
    "\n",
    "Our first feature was the original sentiment analysis, because although it is not reliably conclusive on its own, it can tell us something about the mood of the sentence. \n",
    "\n",
    "The second feature we worked on focused on the user who posted the reply to the specific tweet. We checked whether or not the user was following other accounts that aligned with Donald Trump's or BLM's views, including politicians of either party.\n",
    "\n",
    "<b> Fix the two sentences above and continue adding features when we have them. Include issues we ran into and problems we faced/solutions we came up with as well? </b>\n"
   ]
  },
  {
   "cell_type": "code",
   "execution_count": 10,
   "metadata": {},
   "outputs": [],
   "source": [
    "import tweepy\n",
    "import textblob\n",
    "import numpy as np\n",
    "import pandas as pd\n",
    "import collections\n",
    "from nltk.sentiment import SentimentAnalyzer\n",
    "from nltk.sentiment.util import *"
   ]
  },
  {
   "cell_type": "markdown",
   "metadata": {},
   "source": [
    "### Accessing Twitter's Data\n",
    "\n",
    "In order to access Twitter's API, we had to create applications and personally get authentication tokens. Even though we are all allowed access to Twitter, we cannot give out these confidential tokens on this public notebook. In order to get past this hurdle, we created a function that would pull from our own files on our own machines for these tokens. In the cell below is a copy of credentials.py, without the confidential information. \n",
    "\n",
    "Once we did that, we started querying. However, since Twitter has a rule of a maximum of 15 queries in 15 minutes, and we were querying for replies of more than 15 tweets, we had to find another way to access the data when doing our project. We added the tweets of both accounts and their replies up to <b> INSERT DATE CSV WAS CREATED HERE </b> to csvs to work with them. We slowly added them to circumvent the 15-queries-maximum rule. See below the code we used to access Twitter's API in order to get the data. "
   ]
  },
  {
   "cell_type": "raw",
   "metadata": {
    "collapsed": true
   },
   "source": [
    "# from credentials import *\n",
    "#A function that takes these credentials and sets up the API.\n",
    "def api_setup():\n",
    "    authentication = tweepy.OAuthHandler(CONSUMER_KEY, CONSUMER_SECRET)\n",
    "    authentication.set_access_token(ACCESS_TOKEN, ACCESS_SECRET)\n",
    "    api = tweepy.API(authentication)\n",
    "    return api\n",
    "# Extracting the tweets\n",
    "extract_tweets = api_setup()"
   ]
  },
  {
   "cell_type": "raw",
   "metadata": {
    "collapsed": true
   },
   "source": [
    "# Donald Trump Replies\n",
    "tweet_ids_donald = []\n",
    "for page in tweepy.Cursor(extract_tweets.user_timeline,screen_name=\"realDonaldTrump\").pages(20):\n",
    "    for item in page:\n",
    "        tweet_ids_donald.append(item.id_str)\n"
   ]
  },
  {
   "cell_type": "raw",
   "metadata": {
    "collapsed": true
   },
   "source": [
    "query = tweepy.Cursor(extract_tweets.search,q=\"to:realDonaldTrump\").items(5000)"
   ]
  },
  {
   "cell_type": "raw",
   "metadata": {
    "collapsed": true
   },
   "source": [
    "query2 = tweepy.Cursor(extract_tweets.search,q=\"to:Blklivesmatter\").items(20000)"
   ]
  },
  {
   "cell_type": "raw",
   "metadata": {},
   "source": [
    "for tweet in query:\n",
    "    if replies_donald.get(tweet.in_reply_to_status_id_str) != None:\n",
    "        #add it to the csv"
   ]
  },
  {
   "cell_type": "raw",
   "metadata": {
    "collapsed": true
   },
   "source": [
    "for tweet in query2:\n",
    "    if replies_blm.get(tweet.in_reply_to_status_id_str) != None:\n",
    "        #add it to the csv"
   ]
  },
  {
   "cell_type": "markdown",
   "metadata": {},
   "source": [
    "### Collecting the Data in a Functional Way\n",
    "\n",
    "Now that the data is in a csv and collected, we can put it into a dataframe to work with. \n",
    "\n",
    "This dataframe will only include those tweets, as well as their replies, stemming from a year ago until now, as the most controversial times for both accounts are within that time frame. Specifically, Donald Trump became President of the United States in January and was controversial in the fall leading up to the election. Even though the Black Lives Matter movement was created in 2013 and became nationally recognized in 2014 after the shootings of Michael Brown and Eric Garner, it would be unrelated to our topic to compare the sentiment analysis of Donald Trump before he became controversial in the magnitude that he is now.\n",
    "\n",
    "We also deleted unnecessary columns in the tweet json, like followers_count and following, which don't matter to what we are doing. "
   ]
  },
  {
   "cell_type": "code",
   "execution_count": 18,
   "metadata": {},
   "outputs": [
    {
     "data": {
      "text/html": [
       "<div>\n",
       "<style>\n",
       "    .dataframe thead tr:only-child th {\n",
       "        text-align: right;\n",
       "    }\n",
       "\n",
       "    .dataframe thead th {\n",
       "        text-align: left;\n",
       "    }\n",
       "\n",
       "    .dataframe tbody tr th {\n",
       "        vertical-align: top;\n",
       "    }\n",
       "</style>\n",
       "<table border=\"1\" class=\"dataframe\">\n",
       "  <thead>\n",
       "    <tr style=\"text-align: right;\">\n",
       "      <th></th>\n",
       "      <th>name</th>\n",
       "      <th>location</th>\n",
       "      <th>time_zone</th>\n",
       "      <th>tweet_time</th>\n",
       "      <th>tweet_text</th>\n",
       "      <th>tweet_retweet_status</th>\n",
       "      <th>tweet_hashtags</th>\n",
       "      <th>tweet_user_mentions</th>\n",
       "      <th>tweet_media_type</th>\n",
       "      <th>tweet_contributors</th>\n",
       "    </tr>\n",
       "  </thead>\n",
       "  <tbody>\n",
       "    <tr>\n",
       "      <th>0</th>\n",
       "      <td>Donald J. Trump</td>\n",
       "      <td>Washington, DC</td>\n",
       "      <td>Eastern Time (US &amp; Canada)</td>\n",
       "      <td>2017-12-07 21:10:28</td>\n",
       "      <td>Across the battlefields, oceans, and harrowing...</td>\n",
       "      <td>False</td>\n",
       "      <td>NaN</td>\n",
       "      <td>NaN</td>\n",
       "      <td>NaN</td>\n",
       "      <td>NaN</td>\n",
       "    </tr>\n",
       "    <tr>\n",
       "      <th>1</th>\n",
       "      <td>Donald J. Trump</td>\n",
       "      <td>Washington, DC</td>\n",
       "      <td>Eastern Time (US &amp; Canada)</td>\n",
       "      <td>2017-12-07 20:52:49</td>\n",
       "      <td>Today, as we Remember Pearl Harbor, it was an ...</td>\n",
       "      <td>False</td>\n",
       "      <td>NaN</td>\n",
       "      <td>NaN</td>\n",
       "      <td>NaN</td>\n",
       "      <td>NaN</td>\n",
       "    </tr>\n",
       "    <tr>\n",
       "      <th>2</th>\n",
       "      <td>Donald J. Trump</td>\n",
       "      <td>Washington, DC</td>\n",
       "      <td>Eastern Time (US &amp; Canada)</td>\n",
       "      <td>2017-12-07 20:04:20</td>\n",
       "      <td>Today, the U.S. flag flies at half-staff at th...</td>\n",
       "      <td>False</td>\n",
       "      <td>NaN</td>\n",
       "      <td>WhiteHouse</td>\n",
       "      <td>NaN</td>\n",
       "      <td>NaN</td>\n",
       "    </tr>\n",
       "    <tr>\n",
       "      <th>3</th>\n",
       "      <td>Donald J. Trump</td>\n",
       "      <td>Washington, DC</td>\n",
       "      <td>Eastern Time (US &amp; Canada)</td>\n",
       "      <td>2017-12-07 16:16:19</td>\n",
       "      <td>Today, our entire nation pauses to REMEMBER PE...</td>\n",
       "      <td>False</td>\n",
       "      <td>NaN</td>\n",
       "      <td>NaN</td>\n",
       "      <td>NaN</td>\n",
       "      <td>NaN</td>\n",
       "    </tr>\n",
       "    <tr>\n",
       "      <th>4</th>\n",
       "      <td>Donald J. Trump</td>\n",
       "      <td>Washington, DC</td>\n",
       "      <td>Eastern Time (US &amp; Canada)</td>\n",
       "      <td>2017-12-07 15:04:54</td>\n",
       "      <td>National Pearl Harbor Remembrance Day - \"A day...</td>\n",
       "      <td>False</td>\n",
       "      <td>NaN</td>\n",
       "      <td>NaN</td>\n",
       "      <td>NaN</td>\n",
       "      <td>NaN</td>\n",
       "    </tr>\n",
       "  </tbody>\n",
       "</table>\n",
       "</div>"
      ],
      "text/plain": [
       "              name        location                   time_zone  \\\n",
       "0  Donald J. Trump  Washington, DC  Eastern Time (US & Canada)   \n",
       "1  Donald J. Trump  Washington, DC  Eastern Time (US & Canada)   \n",
       "2  Donald J. Trump  Washington, DC  Eastern Time (US & Canada)   \n",
       "3  Donald J. Trump  Washington, DC  Eastern Time (US & Canada)   \n",
       "4  Donald J. Trump  Washington, DC  Eastern Time (US & Canada)   \n",
       "\n",
       "            tweet_time                                         tweet_text  \\\n",
       "0  2017-12-07 21:10:28  Across the battlefields, oceans, and harrowing...   \n",
       "1  2017-12-07 20:52:49  Today, as we Remember Pearl Harbor, it was an ...   \n",
       "2  2017-12-07 20:04:20  Today, the U.S. flag flies at half-staff at th...   \n",
       "3  2017-12-07 16:16:19  Today, our entire nation pauses to REMEMBER PE...   \n",
       "4  2017-12-07 15:04:54  National Pearl Harbor Remembrance Day - \"A day...   \n",
       "\n",
       "   tweet_retweet_status tweet_hashtags tweet_user_mentions tweet_media_type  \\\n",
       "0                 False            NaN                 NaN              NaN   \n",
       "1                 False            NaN                 NaN              NaN   \n",
       "2                 False            NaN          WhiteHouse              NaN   \n",
       "3                 False            NaN                 NaN              NaN   \n",
       "4                 False            NaN                 NaN              NaN   \n",
       "\n",
       "   tweet_contributors  \n",
       "0                 NaN  \n",
       "1                 NaN  \n",
       "2                 NaN  \n",
       "3                 NaN  \n",
       "4                 NaN  "
      ]
     },
     "execution_count": 18,
     "metadata": {},
     "output_type": "execute_result"
    }
   ],
   "source": [
    "data_donald = pd.read_csv(\"tweets_trump.csv\")\n",
    "del data_donald[\"username\"]\n",
    "del data_donald[\"followers_count\"]\n",
    "del data_donald[\"listed_count\"]\n",
    "del data_donald[\"following\"]\n",
    "del data_donald[\"favorites\"]\n",
    "del data_donald[\"verified\"]\n",
    "del data_donald[\"default_profile\"]\n",
    "del data_donald[\"statuses_count\"]\n",
    "del data_donald[\"description\"]\n",
    "del data_donald[\"geo_enabled\"]\n",
    "del data_donald[\"contributors_enabled\"]\n",
    "del data_donald[\"tweet_lat\"]\n",
    "del data_donald[\"tweet_long\"]\n",
    "del data_donald[\"tweet_source\"]\n",
    "del data_donald[\"tweet_in_reply_to_screen_name\"]\n",
    "del data_donald[\"tweet_direct_reply\"]\n",
    "del data_donald[\"tweet_retweet_count\"]\n",
    "del data_donald[\"tweet_favorite_count\"]\n",
    "del data_donald[\"tweet_hashtags_count\"]\n",
    "del data_donald[\"tweet_urls\"]\n",
    "del data_donald[\"tweet_urls_count\"]\n",
    "del data_donald[\"tweet_user_mentions_count\"]\n",
    "data_donald.head()"
   ]
  },
  {
   "cell_type": "code",
   "execution_count": 19,
   "metadata": {},
   "outputs": [
    {
     "data": {
      "text/html": [
       "<div>\n",
       "<style>\n",
       "    .dataframe thead tr:only-child th {\n",
       "        text-align: right;\n",
       "    }\n",
       "\n",
       "    .dataframe thead th {\n",
       "        text-align: left;\n",
       "    }\n",
       "\n",
       "    .dataframe tbody tr th {\n",
       "        vertical-align: top;\n",
       "    }\n",
       "</style>\n",
       "<table border=\"1\" class=\"dataframe\">\n",
       "  <thead>\n",
       "    <tr style=\"text-align: right;\">\n",
       "      <th></th>\n",
       "      <th>name</th>\n",
       "      <th>location</th>\n",
       "      <th>time_zone</th>\n",
       "      <th>tweet_time</th>\n",
       "      <th>tweet_text</th>\n",
       "      <th>tweet_retweet_status</th>\n",
       "      <th>tweet_hashtags</th>\n",
       "      <th>tweet_user_mentions</th>\n",
       "      <th>tweet_media_type</th>\n",
       "      <th>tweet_contributors</th>\n",
       "    </tr>\n",
       "  </thead>\n",
       "  <tbody>\n",
       "    <tr>\n",
       "      <th>0</th>\n",
       "      <td>Black Lives Matter</td>\n",
       "      <td>worldwide</td>\n",
       "      <td>NaN</td>\n",
       "      <td>2017-12-08 00:56:59</td>\n",
       "      <td>RT @KofiAdemola: #HandsOffJerusalemChi #FreePa...</td>\n",
       "      <td>True</td>\n",
       "      <td>HandsOffJerusalemChi, FreePalestine</td>\n",
       "      <td>KofiAdemola, BLMChi, Blklivesmatter</td>\n",
       "      <td>NaN</td>\n",
       "      <td>NaN</td>\n",
       "    </tr>\n",
       "    <tr>\n",
       "      <th>1</th>\n",
       "      <td>Black Lives Matter</td>\n",
       "      <td>worldwide</td>\n",
       "      <td>NaN</td>\n",
       "      <td>2017-12-08 00:51:59</td>\n",
       "      <td>RT @KofiAdemola: HandsOffJerusalemChi #FreePal...</td>\n",
       "      <td>True</td>\n",
       "      <td>FreePalestine</td>\n",
       "      <td>KofiAdemola, BLMChi, Blklivesmatter</td>\n",
       "      <td>NaN</td>\n",
       "      <td>NaN</td>\n",
       "    </tr>\n",
       "    <tr>\n",
       "      <th>2</th>\n",
       "      <td>Black Lives Matter</td>\n",
       "      <td>worldwide</td>\n",
       "      <td>NaN</td>\n",
       "      <td>2017-12-07 22:51:43</td>\n",
       "      <td>RT @BLMChi: Join us next Thursday!!! https://t...</td>\n",
       "      <td>True</td>\n",
       "      <td>NaN</td>\n",
       "      <td>BLMChi</td>\n",
       "      <td>photo</td>\n",
       "      <td>NaN</td>\n",
       "    </tr>\n",
       "    <tr>\n",
       "      <th>3</th>\n",
       "      <td>Black Lives Matter</td>\n",
       "      <td>worldwide</td>\n",
       "      <td>NaN</td>\n",
       "      <td>2017-12-07 22:46:42</td>\n",
       "      <td>RT @BLMLA: A MUST READ on @Blklivesmatter! Fea...</td>\n",
       "      <td>True</td>\n",
       "      <td>NaN</td>\n",
       "      <td>BLMLA, Blklivesmatter, OsopePatrisse, DocMelly...</td>\n",
       "      <td>NaN</td>\n",
       "      <td>NaN</td>\n",
       "    </tr>\n",
       "    <tr>\n",
       "      <th>4</th>\n",
       "      <td>Black Lives Matter</td>\n",
       "      <td>worldwide</td>\n",
       "      <td>NaN</td>\n",
       "      <td>2017-12-07 22:41:41</td>\n",
       "      <td>RT @DocMellyMel: One of the most in-depth, tho...</td>\n",
       "      <td>True</td>\n",
       "      <td>NaN</td>\n",
       "      <td>DocMellyMel, Blklivesmatter</td>\n",
       "      <td>NaN</td>\n",
       "      <td>NaN</td>\n",
       "    </tr>\n",
       "  </tbody>\n",
       "</table>\n",
       "</div>"
      ],
      "text/plain": [
       "                 name   location  time_zone           tweet_time  \\\n",
       "0  Black Lives Matter  worldwide        NaN  2017-12-08 00:56:59   \n",
       "1  Black Lives Matter  worldwide        NaN  2017-12-08 00:51:59   \n",
       "2  Black Lives Matter  worldwide        NaN  2017-12-07 22:51:43   \n",
       "3  Black Lives Matter  worldwide        NaN  2017-12-07 22:46:42   \n",
       "4  Black Lives Matter  worldwide        NaN  2017-12-07 22:41:41   \n",
       "\n",
       "                                          tweet_text  tweet_retweet_status  \\\n",
       "0  RT @KofiAdemola: #HandsOffJerusalemChi #FreePa...                  True   \n",
       "1  RT @KofiAdemola: HandsOffJerusalemChi #FreePal...                  True   \n",
       "2  RT @BLMChi: Join us next Thursday!!! https://t...                  True   \n",
       "3  RT @BLMLA: A MUST READ on @Blklivesmatter! Fea...                  True   \n",
       "4  RT @DocMellyMel: One of the most in-depth, tho...                  True   \n",
       "\n",
       "                        tweet_hashtags  \\\n",
       "0  HandsOffJerusalemChi, FreePalestine   \n",
       "1                        FreePalestine   \n",
       "2                                  NaN   \n",
       "3                                  NaN   \n",
       "4                                  NaN   \n",
       "\n",
       "                                 tweet_user_mentions tweet_media_type  \\\n",
       "0                KofiAdemola, BLMChi, Blklivesmatter              NaN   \n",
       "1                KofiAdemola, BLMChi, Blklivesmatter              NaN   \n",
       "2                                             BLMChi            photo   \n",
       "3  BLMLA, Blklivesmatter, OsopePatrisse, DocMelly...              NaN   \n",
       "4                        DocMellyMel, Blklivesmatter              NaN   \n",
       "\n",
       "   tweet_contributors  \n",
       "0                 NaN  \n",
       "1                 NaN  \n",
       "2                 NaN  \n",
       "3                 NaN  \n",
       "4                 NaN  "
      ]
     },
     "execution_count": 19,
     "metadata": {},
     "output_type": "execute_result"
    }
   ],
   "source": [
    "data_blm = pd.read_csv(\"tweets_blm.csv\")\n",
    "del data_blm[\"username\"]\n",
    "del data_blm[\"followers_count\"]\n",
    "del data_blm[\"listed_count\"]\n",
    "del data_blm[\"following\"]\n",
    "del data_blm[\"favorites\"]\n",
    "del data_blm[\"verified\"]\n",
    "del data_blm[\"default_profile\"]\n",
    "del data_blm[\"statuses_count\"]\n",
    "del data_blm[\"description\"]\n",
    "del data_blm[\"geo_enabled\"]\n",
    "del data_blm[\"contributors_enabled\"]\n",
    "del data_blm[\"tweet_lat\"]\n",
    "del data_blm[\"tweet_long\"]\n",
    "del data_blm[\"tweet_source\"]\n",
    "del data_blm[\"tweet_in_reply_to_screen_name\"]\n",
    "del data_blm[\"tweet_direct_reply\"]\n",
    "del data_blm[\"tweet_retweet_count\"]\n",
    "del data_blm[\"tweet_favorite_count\"]\n",
    "del data_blm[\"tweet_hashtags_count\"]\n",
    "del data_blm[\"tweet_urls\"]\n",
    "del data_blm[\"tweet_urls_count\"]\n",
    "del data_blm[\"tweet_user_mentions_count\"]\n",
    "data_blm.head()"
   ]
  },
  {
   "cell_type": "markdown",
   "metadata": {},
   "source": [
    "#### Sentiment Analysis\n",
    "\n",
    "As explained before, sentiment analysis is a basic way of analyzing a text to tell if it has a positive, negative, or neutral sentiment. NLTK is the library we will use to do this section. This will be one of the features for the feature vector. "
   ]
  },
  {
   "cell_type": "markdown",
   "metadata": {},
   "source": [
    "## 662 words at this point. "
   ]
  },
  {
   "cell_type": "code",
   "execution_count": 21,
   "metadata": {
    "collapsed": true
   },
   "outputs": [],
   "source": [
    "from nltk.sentiment.vader import SentimentIntensityAnalyzer"
   ]
  },
  {
   "cell_type": "code",
   "execution_count": 22,
   "metadata": {
    "collapsed": true
   },
   "outputs": [],
   "source": [
    "sia = SentimentIntensityAnalyzer()"
   ]
  },
  {
   "cell_type": "code",
   "execution_count": 25,
   "metadata": {},
   "outputs": [],
   "source": [
    "sentiment_nltk_donald = []\n",
    "for _,x in data_donald.iterrows():\n",
    "    sentiment_nltk_donald.append((x[\"tweet_text\"],sia.polarity_scores(x['tweet_text'])))\n",
    "sentiment_nltk_blm = []\n",
    "for _,x in data_blm.iterrows():\n",
    "    sentiment_nltk_blm.append((x[\"tweet_text\"],sia.polarity_scores(x['tweet_text'])))"
   ]
  },
  {
   "cell_type": "code",
   "execution_count": 27,
   "metadata": {},
   "outputs": [
    {
     "name": "stdout",
     "output_type": "stream",
     "text": [
      "('Across the battlefields, oceans, and harrowing skies of Europe and the Pacific throughout the war, one great battle... https://t.co/XelKHx4Ibo', {'neg': 0.224, 'neu': 0.618, 'pos': 0.158, 'compound': -0.1779})\n",
      "('Today, as we Remember Pearl Harbor, it was an incredible honor to be joined with surviving Veterans of the attack o... https://t.co/c4ZYnXSAuj', {'neg': 0.113, 'neu': 0.691, 'pos': 0.196, 'compound': 0.3182})\n",
      "('Today, the U.S. flag flies at half-staff at the @WhiteHouse, in honor of National Pearl Harbor Remembrance Day.... https://t.co/561NBdqSsb', {'neg': 0.0, 'neu': 0.849, 'pos': 0.151, 'compound': 0.4939})\n",
      "('Today, our entire nation pauses to REMEMBER PEARL HARBOR--and the brave warriors who on that day stood tall and foug... https://t.co/xGiAt5hdnu', {'neg': 0.0, 'neu': 0.855, 'pos': 0.145, 'compound': 0.5267})\n",
      "('National Pearl Harbor Remembrance Day - \"A day that will live in infamy!\" December 7, 1941', {'neg': 0.0, 'neu': 1.0, 'pos': 0.0, 'compound': 0.0})\n",
      "('Go get the new book on Andrew Jackson by Brian Kilmeade...Really good. @foxandfriends', {'neg': 0.0, 'neu': 0.805, 'pos': 0.195, 'compound': 0.4404})\n"
     ]
    }
   ],
   "source": [
    "i = 0\n",
    "while i < 6:\n",
    "    print(sentiment_nltk_donald[i])\n",
    "    i = i + 1"
   ]
  },
  {
   "cell_type": "markdown",
   "metadata": {},
   "source": [
    "## 30 nonredundant lines of code. "
   ]
  },
  {
   "cell_type": "code",
   "execution_count": null,
   "metadata": {
    "collapsed": true
   },
   "outputs": [],
   "source": []
  }
 ],
 "metadata": {
  "kernelspec": {
   "display_name": "Python 3",
   "language": "python",
   "name": "python3"
  },
  "language_info": {
   "codemirror_mode": {
    "name": "ipython",
    "version": 3
   },
   "file_extension": ".py",
   "mimetype": "text/x-python",
   "name": "python",
   "nbconvert_exporter": "python",
   "pygments_lexer": "ipython3",
   "version": "3.6.1"
  }
 },
 "nbformat": 4,
 "nbformat_minor": 2
}
