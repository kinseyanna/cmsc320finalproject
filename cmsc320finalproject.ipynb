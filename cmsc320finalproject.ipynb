{
 "cells": [
  {
   "cell_type": "markdown",
   "metadata": {},
   "source": [
    "# CMSC320 Final Project\n",
    "## Kinsey Smith, Sarah Bullard, Yiwen Shen"
   ]
  },
  {
   "cell_type": "markdown",
   "metadata": {},
   "source": [
    "<img src=\"trump_twitter_image.jpg\">"
   ]
  },
  {
   "cell_type": "markdown",
   "metadata": {},
   "source": [
    "### Introduction\n",
    "\n",
    "Our project is surrounding the Twitter account of the United States' current president, Donald Trump (@realDonaldTrump). We focused on the sentiment of the tweets of this account versus each individual tweet's replies. Our intention was to find out the difference between the sentiment of the tweet and the sentiment of its replies, and how it would reflect our current political climate. Our hypothesis was that Donald Trump's account would have more negative replies to his positive tweets, since the current political climate does not favor Donald Trump.\n",
    "\n",
    "Sentiment analysis is a way of classifying a text as having a positive, negative, or neutral sentiment using text analysis.  However, because of the complex and sarcastic components of the English language, sentiment analysis is not a sole way of categorizing something as positive or negative. Because of this, we needed other factors to tell the sentiment of a reply. In order to do this, we created a feature vector and used that to classify the sentiment of the reply and used SVM machine learning in order to have the machine classify it for us.\n",
    "\n",
    "The features in our feature vector are as follows: \n",
    "\n",
    "Our first feature was the original sentiment analysis, because although it is not reliably conclusive on its own, it can tell us something about the mood of the sentence. \n",
    "\n",
    "The second feature we worked on focused on the user who posted the reply to the specific tweet. We checked whether or not the user was following other accounts that aligned with Donald Trump's or BLM's views, including politicians of either party.\n",
    "\n",
    "The third feature we worked on also focused on the user who posted the reply to the specific tweet. We compared the user's hashtags for the last year to known Trump-positive and BLM-positive hashtags, and noted numerically the number of hashtags that were similar for each user. \n",
    "\n",
    "This notebook will be organized into four parts: Data Extraction, Data Manipulation, Data Analysis, and Data Visualization. Each part will show how we manipulated the Twitter's API in order to get the tweets that we need and come to the conclusion that we have. "
   ]
  },
  {
   "cell_type": "code",
   "execution_count": 2,
   "metadata": {
    "collapsed": true
   },
   "outputs": [],
   "source": [
    "# All of the imports that we need for the project.\n",
    "import tweepy\n",
    "import textblob\n",
    "import numpy as np\n",
    "import pandas as pd\n",
    "import collections\n",
    "from nltk.sentiment import SentimentAnalyzer\n",
    "from nltk.sentiment.util import *"
   ]
  },
  {
   "cell_type": "markdown",
   "metadata": {},
   "source": [
    "### Accessing Twitter's Data\n",
    "\n",
    "In order to access Twitter's API, we had to create applications and personally get authentication tokens. Even though anyone that has a Twitter account is allowed access to Twitter's data as long as they fill out an Application form, we cannot give out these confidential tokens on this public notebook becuase it is a privacy risk. In order to get past this hurdle, we created a function that would pull from our own files on our own machines for these tokens. In the cell below is a copy of credentials.py, without the confidential information. See below the code we used to access Twitter's API in order to get the data. "
   ]
  },
  {
   "cell_type": "markdown",
   "metadata": {},
   "source": [
    "#### An example of credentials.py \n",
    "#This is a file that holds confidential information about a Twitter user and their authentication tokens. Please do not read further if you are not authorized.\n",
    "  \n",
    "CONSUMER_KEY = ' '\n",
    "\n",
    "CONSUMER_SECRET = ' '\n",
    "\n",
    "ACCESS_TOKEN = ' '\n",
    "\n",
    "ACCESS_SECRET = ' '\n"
   ]
  },
  {
   "cell_type": "code",
   "execution_count": 1,
   "metadata": {
    "collapsed": true
   },
   "outputs": [],
   "source": [
    "from credentials import *\n",
    "#A function that takes these credentials and sets up the API.\n",
    "def api_setup():\n",
    "    authentication = tweepy.OAuthHandler(CONSUMER_KEY, CONSUMER_SECRET)\n",
    "    authentication.set_access_token(ACCESS_TOKEN, ACCESS_SECRET)\n",
    "    api = tweepy.API(authentication)\n",
    "    return api\n",
    "# Extracting the tweets\n",
    "extract_tweets = api_setup()"
   ]
  },
  {
   "cell_type": "code",
   "execution_count": null,
   "metadata": {
    "collapsed": true
   },
   "outputs": [],
   "source": [
    "# Donald Trump Replies\n",
    "tweet_ids_donald = []\n",
    "for page in tweepy.Cursor(extract_tweets.user_timeline,screen_name=\"realDonaldTrump\").pages(20):\n",
    "    for item in page:\n",
    "        tweet_ids_donald.append(item.id_str)"
   ]
  },
  {
   "cell_type": "code",
   "execution_count": null,
   "metadata": {
    "collapsed": true
   },
   "outputs": [],
   "source": [
    "query = tweepy.Cursor(extract_tweets.search,q=\"to:realDonaldTrump\").items(5000)"
   ]
  },
  {
   "cell_type": "code",
   "execution_count": null,
   "metadata": {
    "collapsed": true
   },
   "outputs": [],
   "source": [
    "query2 = tweepy.Cursor(extract_tweets.search,q=\"to:Blklivesmatter\").items(20000)"
   ]
  },
  {
   "cell_type": "code",
   "execution_count": null,
   "metadata": {
    "collapsed": true
   },
   "outputs": [],
   "source": [
    "for tweet in query:\n",
    "    if replies_donald.get(tweet.in_reply_to_status_id_str) != None:\n",
    "        #add it to the csv"
   ]
  },
  {
   "cell_type": "code",
   "execution_count": null,
   "metadata": {
    "collapsed": true
   },
   "outputs": [],
   "source": [
    "for tweet in query2:\n",
    "    if replies_blm.get(tweet.in_reply_to_status_id_str) != None:\n",
    "        #add it to the csv"
   ]
  },
  {
   "cell_type": "markdown",
   "metadata": {},
   "source": [
    "### Adding the data to their individual CSVs\n",
    "\n",
    "Once we accessed the data from Twitter's API, we started querying. However, since Twitter has a rule of a maximum of 15 queries in 15 minutes, and we were querying for replies of more than 15 tweets, we had to find another way to access the data when working with it. Twitter also has a rule where you can only access tweets 2 weeks before the current date, so we set that as our time limit for both tweets and their replies to measure the current poltical climate. We added the tweets and their replies dated from <b> DATE OF TWEETS AND REPLIES </b> to individual CSVs to work with them. We slowly added them to these CSVs to circumvent the 15-queries-maximum rule.\n",
    "\n",
    "<b> Put comments here about how you added the data to the CSVs and what purpose it had. </b>"
   ]
  },
  {
   "cell_type": "code",
   "execution_count": 6,
   "metadata": {
    "collapsed": true
   },
   "outputs": [],
   "source": [
    "# Put code here about how you added the data to the CSVs and what purpose it had."
   ]
  },
  {
   "cell_type": "markdown",
   "metadata": {},
   "source": [
    "### Collecting the Data in a Functional Way\n",
    "\n",
    "Now that the data is in a csv and collected, we can put it into a dataframe to work with. \n",
    "\n",
    "We also deleted unnecessary columns in the tweet json, like followers_count and following, which don't matter in regards to what we are doing. Since the Twitter json structure doesn't include the tweet id itself and (if it is a reply) the id of the tweet it is replying to, we had to put that information as well as the text of the tweet (to match them) into a separate CSV and compare them to add both sets of information to the dataframe."
   ]
  },
  {
   "cell_type": "code",
   "execution_count": 3,
   "metadata": {
    "scrolled": false
   },
   "outputs": [
    {
     "data": {
      "text/html": [
       "<div>\n",
       "<style>\n",
       "    .dataframe thead tr:only-child th {\n",
       "        text-align: right;\n",
       "    }\n",
       "\n",
       "    .dataframe thead th {\n",
       "        text-align: left;\n",
       "    }\n",
       "\n",
       "    .dataframe tbody tr th {\n",
       "        vertical-align: top;\n",
       "    }\n",
       "</style>\n",
       "<table border=\"1\" class=\"dataframe\">\n",
       "  <thead>\n",
       "    <tr style=\"text-align: right;\">\n",
       "      <th></th>\n",
       "      <th>username</th>\n",
       "      <th>location</th>\n",
       "      <th>time_zone</th>\n",
       "      <th>tweet_id</th>\n",
       "      <th>tweet_time</th>\n",
       "      <th>tweet_text</th>\n",
       "      <th>tweet_retweet_status</th>\n",
       "      <th>tweet_hashtags</th>\n",
       "      <th>tweet_user_mentions</th>\n",
       "      <th>tweet_media_type</th>\n",
       "      <th>tweet_contributors</th>\n",
       "    </tr>\n",
       "  </thead>\n",
       "  <tbody>\n",
       "    <tr>\n",
       "      <th>0</th>\n",
       "      <td>realDonaldTrump</td>\n",
       "      <td>Washington, DC</td>\n",
       "      <td>Eastern Time (US &amp; Canada)</td>\n",
       "      <td>939680422493073408</td>\n",
       "      <td>2017-12-10 02:17:25</td>\n",
       "      <td>No American should be separated from their lov...</td>\n",
       "      <td>False</td>\n",
       "      <td>NaN</td>\n",
       "      <td>NaN</td>\n",
       "      <td>NaN</td>\n",
       "      <td>NaN</td>\n",
       "    </tr>\n",
       "    <tr>\n",
       "      <th>1</th>\n",
       "      <td>realDonaldTrump</td>\n",
       "      <td>Washington, DC</td>\n",
       "      <td>Eastern Time (US &amp; Canada)</td>\n",
       "      <td>939642796289470464</td>\n",
       "      <td>2017-12-09 23:47:55</td>\n",
       "      <td>Great Army - Navy Game. Army wins 14 to 13 and...</td>\n",
       "      <td>False</td>\n",
       "      <td>NaN</td>\n",
       "      <td>NaN</td>\n",
       "      <td>NaN</td>\n",
       "      <td>NaN</td>\n",
       "    </tr>\n",
       "    <tr>\n",
       "      <th>2</th>\n",
       "      <td>realDonaldTrump</td>\n",
       "      <td>Washington, DC</td>\n",
       "      <td>Eastern Time (US &amp; Canada)</td>\n",
       "      <td>939634404267380736</td>\n",
       "      <td>2017-12-09 23:14:34</td>\n",
       "      <td>.@daveweigel of the Washington Post just admit...</td>\n",
       "      <td>False</td>\n",
       "      <td>NaN</td>\n",
       "      <td>daveweigel</td>\n",
       "      <td>NaN</td>\n",
       "      <td>NaN</td>\n",
       "    </tr>\n",
       "    <tr>\n",
       "      <th>3</th>\n",
       "      <td>realDonaldTrump</td>\n",
       "      <td>Washington, DC</td>\n",
       "      <td>Eastern Time (US &amp; Canada)</td>\n",
       "      <td>939616077356642304</td>\n",
       "      <td>2017-12-09 22:01:44</td>\n",
       "      <td>.@DaveWeigel @WashingtonPost put out a phony p...</td>\n",
       "      <td>False</td>\n",
       "      <td>NaN</td>\n",
       "      <td>daveweigel, washingtonpost</td>\n",
       "      <td>NaN</td>\n",
       "      <td>NaN</td>\n",
       "    </tr>\n",
       "    <tr>\n",
       "      <th>4</th>\n",
       "      <td>realDonaldTrump</td>\n",
       "      <td>Washington, DC</td>\n",
       "      <td>Eastern Time (US &amp; Canada)</td>\n",
       "      <td>939564681743814661</td>\n",
       "      <td>2017-12-09 18:37:31</td>\n",
       "      <td>Have a great game today, @USArmy and @USNavy -...</td>\n",
       "      <td>False</td>\n",
       "      <td>NaN</td>\n",
       "      <td>USArmy, USNavy</td>\n",
       "      <td>NaN</td>\n",
       "      <td>NaN</td>\n",
       "    </tr>\n",
       "  </tbody>\n",
       "</table>\n",
       "</div>"
      ],
      "text/plain": [
       "          username        location                   time_zone  \\\n",
       "0  realDonaldTrump  Washington, DC  Eastern Time (US & Canada)   \n",
       "1  realDonaldTrump  Washington, DC  Eastern Time (US & Canada)   \n",
       "2  realDonaldTrump  Washington, DC  Eastern Time (US & Canada)   \n",
       "3  realDonaldTrump  Washington, DC  Eastern Time (US & Canada)   \n",
       "4  realDonaldTrump  Washington, DC  Eastern Time (US & Canada)   \n",
       "\n",
       "             tweet_id           tweet_time  \\\n",
       "0  939680422493073408  2017-12-10 02:17:25   \n",
       "1  939642796289470464  2017-12-09 23:47:55   \n",
       "2  939634404267380736  2017-12-09 23:14:34   \n",
       "3  939616077356642304  2017-12-09 22:01:44   \n",
       "4  939564681743814661  2017-12-09 18:37:31   \n",
       "\n",
       "                                          tweet_text  tweet_retweet_status  \\\n",
       "0  No American should be separated from their lov...                 False   \n",
       "1  Great Army - Navy Game. Army wins 14 to 13 and...                 False   \n",
       "2  .@daveweigel of the Washington Post just admit...                 False   \n",
       "3  .@DaveWeigel @WashingtonPost put out a phony p...                 False   \n",
       "4  Have a great game today, @USArmy and @USNavy -...                 False   \n",
       "\n",
       "  tweet_hashtags         tweet_user_mentions tweet_media_type  \\\n",
       "0            NaN                         NaN              NaN   \n",
       "1            NaN                         NaN              NaN   \n",
       "2            NaN                  daveweigel              NaN   \n",
       "3            NaN  daveweigel, washingtonpost              NaN   \n",
       "4            NaN              USArmy, USNavy              NaN   \n",
       "\n",
       "   tweet_contributors  \n",
       "0                 NaN  \n",
       "1                 NaN  \n",
       "2                 NaN  \n",
       "3                 NaN  \n",
       "4                 NaN  "
      ]
     },
     "execution_count": 3,
     "metadata": {},
     "output_type": "execute_result"
    }
   ],
   "source": [
    "# The Donald Tweets\n",
    "data_donald = pd.read_csv(\"trump3.csv\")\n",
    "del data_donald[\"name\"]\n",
    "del data_donald[\"followers_count\"]\n",
    "del data_donald[\"listed_count\"]\n",
    "del data_donald[\"following\"]\n",
    "del data_donald[\"favorites\"]\n",
    "del data_donald[\"verified\"]\n",
    "del data_donald[\"default_profile\"]\n",
    "del data_donald[\"statuses_count\"]\n",
    "del data_donald[\"description\"]\n",
    "del data_donald[\"geo_enabled\"]\n",
    "del data_donald[\"contributors_enabled\"]\n",
    "del data_donald[\"tweet_lat\"]\n",
    "del data_donald[\"tweet_long\"]\n",
    "del data_donald[\"tweet_source\"]\n",
    "del data_donald[\"tweet_in_reply_to_screen_name\"]\n",
    "del data_donald[\"tweet_direct_reply\"]\n",
    "del data_donald[\"tweet_retweet_count\"]\n",
    "del data_donald[\"tweet_favorite_count\"]\n",
    "del data_donald[\"tweet_hashtags_count\"]\n",
    "del data_donald[\"tweet_urls\"]\n",
    "del data_donald[\"tweet_urls_count\"]\n",
    "del data_donald[\"tweet_user_mentions_count\"]\n",
    "data_donald.head()"
   ]
  },
  {
   "cell_type": "code",
   "execution_count": 8,
   "metadata": {
    "scrolled": true
   },
   "outputs": [
    {
     "data": {
      "text/html": [
       "<div>\n",
       "<style>\n",
       "    .dataframe thead tr:only-child th {\n",
       "        text-align: right;\n",
       "    }\n",
       "\n",
       "    .dataframe thead th {\n",
       "        text-align: left;\n",
       "    }\n",
       "\n",
       "    .dataframe tbody tr th {\n",
       "        vertical-align: top;\n",
       "    }\n",
       "</style>\n",
       "<table border=\"1\" class=\"dataframe\">\n",
       "  <thead>\n",
       "    <tr style=\"text-align: right;\">\n",
       "      <th></th>\n",
       "      <th>username</th>\n",
       "      <th>location</th>\n",
       "      <th>time_zone</th>\n",
       "      <th>tweet_id</th>\n",
       "      <th>tweet_time</th>\n",
       "      <th>tweet_text</th>\n",
       "      <th>tweet_in_reply_to_screen_name</th>\n",
       "      <th>tweet_hashtags</th>\n",
       "      <th>tweet_user_mentions</th>\n",
       "      <th>tweet_media_type</th>\n",
       "      <th>tweet_contributors</th>\n",
       "    </tr>\n",
       "  </thead>\n",
       "  <tbody>\n",
       "    <tr>\n",
       "      <th>0</th>\n",
       "      <td>ToskovVeselin</td>\n",
       "      <td>NaN</td>\n",
       "      <td>NaN</td>\n",
       "      <td>9.398499e+17</td>\n",
       "      <td>2017-12-10 13:35:28</td>\n",
       "      <td>@realDonaldTrump https://t.co/42XcWGph5Y</td>\n",
       "      <td>realDonaldTrump</td>\n",
       "      <td>NaN</td>\n",
       "      <td>realDonaldTrump</td>\n",
       "      <td>photo</td>\n",
       "      <td>NaN</td>\n",
       "    </tr>\n",
       "    <tr>\n",
       "      <th>1</th>\n",
       "      <td>Charles5077</td>\n",
       "      <td>Tennessee, USA</td>\n",
       "      <td>Pacific Time (US &amp; Canada)</td>\n",
       "      <td>9.398499e+17</td>\n",
       "      <td>2017-12-10 13:35:28</td>\n",
       "      <td>@realDonaldTrump For now</td>\n",
       "      <td>realDonaldTrump</td>\n",
       "      <td>NaN</td>\n",
       "      <td>realDonaldTrump</td>\n",
       "      <td>NaN</td>\n",
       "      <td>NaN</td>\n",
       "    </tr>\n",
       "    <tr>\n",
       "      <th>2</th>\n",
       "      <td>imagerm69</td>\n",
       "      <td>Texas, USA</td>\n",
       "      <td>NaN</td>\n",
       "      <td>9.398499e+17</td>\n",
       "      <td>2017-12-10 13:35:28</td>\n",
       "      <td>@realDonaldTrump Humpty Dumpty news had a grea...</td>\n",
       "      <td>realDonaldTrump</td>\n",
       "      <td>NaN</td>\n",
       "      <td>realDonaldTrump</td>\n",
       "      <td>NaN</td>\n",
       "      <td>NaN</td>\n",
       "    </tr>\n",
       "    <tr>\n",
       "      <th>3</th>\n",
       "      <td>dergalev</td>\n",
       "      <td>Chelyabinsk, Russia</td>\n",
       "      <td>Asia/Yekaterinburg</td>\n",
       "      <td>9.398499e+17</td>\n",
       "      <td>2017-12-10 13:35:28</td>\n",
       "      <td>@realDonaldTrump Even when you're watching TV ...</td>\n",
       "      <td>realDonaldTrump</td>\n",
       "      <td>FakeNewsMedia</td>\n",
       "      <td>realDonaldTrump</td>\n",
       "      <td>NaN</td>\n",
       "      <td>NaN</td>\n",
       "    </tr>\n",
       "    <tr>\n",
       "      <th>4</th>\n",
       "      <td>KevinLoudin</td>\n",
       "      <td>Cumming, GA</td>\n",
       "      <td>Eastern Time (US &amp; Canada)</td>\n",
       "      <td>9.398499e+17</td>\n",
       "      <td>2017-12-10 13:35:28</td>\n",
       "      <td>@realDonaldTrump Thanks Obama!</td>\n",
       "      <td>realDonaldTrump</td>\n",
       "      <td>NaN</td>\n",
       "      <td>realDonaldTrump</td>\n",
       "      <td>NaN</td>\n",
       "      <td>NaN</td>\n",
       "    </tr>\n",
       "  </tbody>\n",
       "</table>\n",
       "</div>"
      ],
      "text/plain": [
       "        username             location                   time_zone  \\\n",
       "0  ToskovVeselin                  NaN                         NaN   \n",
       "1    Charles5077       Tennessee, USA  Pacific Time (US & Canada)   \n",
       "2      imagerm69           Texas, USA                         NaN   \n",
       "3       dergalev  Chelyabinsk, Russia          Asia/Yekaterinburg   \n",
       "4    KevinLoudin          Cumming, GA  Eastern Time (US & Canada)   \n",
       "\n",
       "       tweet_id           tweet_time  \\\n",
       "0  9.398499e+17  2017-12-10 13:35:28   \n",
       "1  9.398499e+17  2017-12-10 13:35:28   \n",
       "2  9.398499e+17  2017-12-10 13:35:28   \n",
       "3  9.398499e+17  2017-12-10 13:35:28   \n",
       "4  9.398499e+17  2017-12-10 13:35:28   \n",
       "\n",
       "                                          tweet_text  \\\n",
       "0           @realDonaldTrump https://t.co/42XcWGph5Y   \n",
       "1                          @realDonaldTrump For now    \n",
       "2  @realDonaldTrump Humpty Dumpty news had a grea...   \n",
       "3  @realDonaldTrump Even when you're watching TV ...   \n",
       "4                     @realDonaldTrump Thanks Obama!   \n",
       "\n",
       "  tweet_in_reply_to_screen_name tweet_hashtags tweet_user_mentions  \\\n",
       "0               realDonaldTrump            NaN     realDonaldTrump   \n",
       "1               realDonaldTrump            NaN     realDonaldTrump   \n",
       "2               realDonaldTrump            NaN     realDonaldTrump   \n",
       "3               realDonaldTrump  FakeNewsMedia     realDonaldTrump   \n",
       "4               realDonaldTrump            NaN     realDonaldTrump   \n",
       "\n",
       "  tweet_media_type  tweet_contributors  \n",
       "0            photo                 NaN  \n",
       "1              NaN                 NaN  \n",
       "2              NaN                 NaN  \n",
       "3              NaN                 NaN  \n",
       "4              NaN                 NaN  "
      ]
     },
     "execution_count": 8,
     "metadata": {},
     "output_type": "execute_result"
    }
   ],
   "source": [
    "# Replies of Trump\n",
    "data_donald_replies = pd.read_csv(\"trump_replies_7.csv\")\n",
    "del data_donald_replies[\"name\"]\n",
    "del data_donald_replies[\"followers_count\"]\n",
    "del data_donald_replies[\"listed_count\"]\n",
    "del data_donald_replies[\"following\"]\n",
    "del data_donald_replies[\"favorites\"]\n",
    "del data_donald_replies[\"verified\"]\n",
    "del data_donald_replies[\"default_profile\"]\n",
    "del data_donald_replies[\"statuses_count\"]\n",
    "del data_donald_replies[\"description\"]\n",
    "del data_donald_replies[\"geo_enabled\"]\n",
    "del data_donald_replies[\"contributors_enabled\"]\n",
    "del data_donald_replies[\"tweet_lat\"]\n",
    "del data_donald_replies[\"tweet_long\"]\n",
    "del data_donald_replies[\"tweet_source\"]\n",
    "del data_donald_replies[\"tweet_direct_reply\"]\n",
    "del data_donald_replies[\"tweet_retweet_status\"]\n",
    "del data_donald_replies[\"tweet_retweet_count\"]\n",
    "del data_donald_replies[\"tweet_favorite_count\"]\n",
    "del data_donald_replies[\"tweet_hashtags_count\"]\n",
    "del data_donald_replies[\"tweet_urls\"]\n",
    "del data_donald_replies[\"tweet_urls_count\"]\n",
    "del data_donald_replies[\"tweet_user_mentions_count\"]\n",
    "data_donald_replies.head()"
   ]
  },
  {
   "cell_type": "markdown",
   "metadata": {},
   "source": [
    "#### Sentiment Analysis\n",
    "\n",
    "As explained before, sentiment analysis is a basic way of analyzing a text to tell if it is of positive, negative, or neutral sentiment. NLTK is the library we will use to do this section. This will be one of the features for the feature vector. "
   ]
  },
  {
   "cell_type": "markdown",
   "metadata": {},
   "source": [
    "## 784 words at this point. "
   ]
  },
  {
   "cell_type": "code",
   "execution_count": 11,
   "metadata": {
    "collapsed": true
   },
   "outputs": [],
   "source": [
    "from nltk.sentiment.vader import SentimentIntensityAnalyzer"
   ]
  },
  {
   "cell_type": "code",
   "execution_count": 12,
   "metadata": {
    "collapsed": true
   },
   "outputs": [],
   "source": [
    "sia = SentimentIntensityAnalyzer()"
   ]
  },
  {
   "cell_type": "code",
   "execution_count": 14,
   "metadata": {
    "collapsed": true
   },
   "outputs": [],
   "source": [
    "#Getting the sentiment analysis for each type of tweet\n",
    "sentiment_nltk_donald = []\n",
    "for _,x in data_donald.iterrows():\n",
    "    sentiment_nltk_donald.append((x[\"tweet_text\"],sia.polarity_scores(x['tweet_text'])))\n",
    "sentiment_nltk_donald_replies = []\n",
    "for _,x in data_donald_replies.iterrows():\n",
    "    sentiment_nltk_donald_replies.append((x[\"tweet_text\"],sia.polarity_scores(x['tweet_text'])))"
   ]
  },
  {
   "cell_type": "code",
   "execution_count": 15,
   "metadata": {},
   "outputs": [
    {
     "name": "stdout",
     "output_type": "stream",
     "text": [
      "('@realDonaldTrump @WhiteHouse  https://t.co/Po44ehzuU4', {'neg': 0.0, 'neu': 1.0, 'pos': 0.0, 'compound': 0.0})\n",
      "('@realDonaldTrump @POTUS Moron!', {'neg': 0.636, 'neu': 0.364, 'pos': 0.0, 'compound': -0.5411})\n",
      "(\"@realDonaldTrump I'm not convinced that the majority of Americans believe that. Heck, he helped you win by what he... https://t.co/OhZPoFZoLC\", {'neg': 0.094, 'neu': 0.748, 'pos': 0.158, 'compound': 0.3699})\n",
      "('@realDonaldTrump Awesome job!  Keep it up!', {'neg': 0.0, 'neu': 0.516, 'pos': 0.484, 'compound': 0.6892})\n",
      "('@realDonaldTrump No you did not you moron', {'neg': 0.224, 'neu': 0.509, 'pos': 0.267, 'compound': 0.1098})\n",
      "('@realDonaldTrump Coherent, grammatical, appropriate capitalization ... obviously ghostwritten.', {'neg': 0.0, 'neu': 1.0, 'pos': 0.0, 'compound': 0.0})\n"
     ]
    }
   ],
   "source": [
    "i = 0\n",
    "while i < 6:\n",
    "    print(sentiment_nltk_donald_replies[i])\n",
    "    i = i + 1"
   ]
  },
  {
   "cell_type": "markdown",
   "metadata": {},
   "source": [
    "## 30 nonredundant lines of code. "
   ]
  },
  {
   "cell_type": "code",
   "execution_count": null,
   "metadata": {
    "collapsed": true
   },
   "outputs": [],
   "source": []
  }
 ],
 "metadata": {
  "kernelspec": {
   "display_name": "Python 3",
   "language": "python",
   "name": "python3"
  },
  "language_info": {
   "codemirror_mode": {
    "name": "ipython",
    "version": 3
   },
   "file_extension": ".py",
   "mimetype": "text/x-python",
   "name": "python",
   "nbconvert_exporter": "python",
   "pygments_lexer": "ipython3",
   "version": "3.6.1"
  }
 },
 "nbformat": 4,
 "nbformat_minor": 2
}
